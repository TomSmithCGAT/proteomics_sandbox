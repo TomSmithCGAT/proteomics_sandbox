{
 "cells": [
  {
   "cell_type": "code",
   "execution_count": 2,
   "metadata": {
    "collapsed": false
   },
   "outputs": [
    {
     "name": "stdout",
     "output_type": "stream",
     "text": [
      "The rpy2.ipython extension is already loaded. To reload it, use:\n",
      "  %reload_ext rpy2.ipython\n"
     ]
    }
   ],
   "source": [
    "import pandas as pd\n",
    "import collections \n",
    "import proteomics.sequence as sequence\n",
    "import copy\n",
    "import re\n",
    "import os\n",
    "%load_ext rpy2.ipython"
   ]
  },
  {
   "cell_type": "code",
   "execution_count": 3,
   "metadata": {
    "collapsed": true
   },
   "outputs": [],
   "source": [
    "#infile = \"/home/FILESERVER5/proteomics/tss38/WT/PD/raw/RNA_Peptide_Trizol.xlsx\"\n",
    "infile = \"/home/FILESERVER5/proteomics/tss38/git_repos/CamProt/raw/RNA_Ptn_Trizol.xlsx\"\n",
    "fasta_inf = \"/home/FILESERVER5/proteomics/tss38/git_repos/CamProt/raw/Human_201701.fasta\"\n",
    "crap_inf = \"/home/FILESERVER5/proteomics/tss38/git_repos/CamProt/raw/cRAP_FullIdentifiers.fasta\""
   ]
  },
  {
   "cell_type": "code",
   "execution_count": 4,
   "metadata": {
    "collapsed": true
   },
   "outputs": [],
   "source": [
    "# code 'borrowed' from CGAT.FastaIterator (trying to limit dependencies)\n",
    "\n",
    "class FastaRecord:\n",
    "    \"\"\"a :term:`fasta` record.\n",
    "\n",
    "    Attributes\n",
    "    ----------\n",
    "    title: string\n",
    "       the title of the sequence\n",
    "\n",
    "    sequence: string\n",
    "       the sequence\n",
    "\n",
    "    fold : int\n",
    "       the number of bases per line when writing out\n",
    "    \"\"\"\n",
    "\n",
    "    def __init__(self, title, sequence, fold=False):\n",
    "\n",
    "        self.title = title\n",
    "        self.sequence = sequence\n",
    "        self.fold = fold\n",
    "\n",
    "    def __str__(self):\n",
    "        ''' str method for writing out'''\n",
    "\n",
    "        if self.fold:\n",
    "            seq = [self.sequence[i:i + self.fold]\n",
    "                   for i in range(0, len(self.sequence), self.fold)]\n",
    "        else:\n",
    "            seq = (self.sequence,)\n",
    "\n",
    "        return \">%s\\n%s\" % (self.title, \"\\n\".join(seq))\n",
    "\n",
    "    \n",
    "class FastaIterator:\n",
    "    '''a iterator of :term:`fasta` formatted files.\n",
    "\n",
    "    Yields\n",
    "    ------\n",
    "    FastaRecord\n",
    "\n",
    "    '''\n",
    "\n",
    "    def __init__(self, f, *args, **kwargs):\n",
    "        self.iterator = iterate(f)\n",
    "\n",
    "    def __iter__(self):\n",
    "        return self\n",
    "\n",
    "    def __next__(self):\n",
    "        return next(self.iterator)\n",
    "\n",
    "    def next(self):\n",
    "        return next(self.iterator)\n",
    "\n",
    "\n",
    "def iterate(infile, comment=\"#\", fold=False):\n",
    "    '''iterate over fasta data in infile\n",
    "\n",
    "    Lines before the first fasta record are\n",
    "    ignored (starting with ``>``) as well as\n",
    "    lines starting with the comment character.\n",
    "\n",
    "    Parameters\n",
    "    ----------\n",
    "    infile : File\n",
    "        the input file\n",
    "    comment : char\n",
    "        comment character\n",
    "    fold : int\n",
    "        the number of bases before line split when writing out\n",
    "\n",
    "    Yields\n",
    "    ------\n",
    "    FastaRecord\n",
    "    '''\n",
    "\n",
    "    h = infile.readline()[:-1]\n",
    "\n",
    "    if not h:\n",
    "        raise StopIteration\n",
    "\n",
    "    # skip everything until first fasta entry starts\n",
    "    while h[0] != \">\":\n",
    "        h = infile.readline()[:-1]\n",
    "        if not h:\n",
    "            raise StopIteration\n",
    "        continue\n",
    "\n",
    "    h = h[1:]\n",
    "    seq = []\n",
    "\n",
    "    for line in infile:\n",
    "\n",
    "        if line.startswith(comment):\n",
    "            continue\n",
    "\n",
    "        if line.startswith('>'):\n",
    "            yield FastaRecord(h, ''.join(seq), fold)\n",
    "\n",
    "            h = line[1:-1]\n",
    "            seq = []\n",
    "            continue\n",
    "\n",
    "        seq.append(line[:-1])\n",
    "\n",
    "    yield FastaRecord(h, ''.join(seq), fold)\n"
   ]
  },
  {
   "cell_type": "code",
   "execution_count": 5,
   "metadata": {
    "collapsed": false
   },
   "outputs": [],
   "source": [
    "df = pd.read_excel(infile)\n",
    "df['Show Spectrum'] = df['Show Spectrum'].astype(str)\n",
    "df['All localization scores'] = df['All localization scores'].astype(str)\n",
    "df['Best localization(s)'] = df['Best localization(s)'].astype(str)\n"
   ]
  },
  {
   "cell_type": "code",
   "execution_count": 6,
   "metadata": {
    "collapsed": false
   },
   "outputs": [],
   "source": [
    "df['tr_only'] = [x.count(\"sp|\")>0 for x in df['Proteins']]\n",
    "df['matches'] = [len(x.split(\",\")) for x in df['Proteins']]\n"
   ]
  },
  {
   "cell_type": "code",
   "execution_count": 31,
   "metadata": {
    "collapsed": true
   },
   "outputs": [],
   "source": [
    "df2 = df[['tr_only', 'Score', 'Best loc score', 'matches', 'Best localization(s)']]"
   ]
  },
  {
   "cell_type": "code",
   "execution_count": 37,
   "metadata": {
    "collapsed": false
   },
   "outputs": [
    {
     "data": {
      "text/plain": [
       "  tr_only     Score Best.loc.score matches Best.localization.s. crosslinked\n",
       "0    TRUE 0.6392479        0.00000       6                  nan       FALSE\n",
       "1    TRUE 0.4237237      151.16437       3        HACCEHfQMQLRS        TRUE\n",
       "2    TRUE 0.1508856       65.72360       1       CYMYqARDLAAMDK        TRUE\n",
       "3    TRUE 2.7933153       26.61265       1          LQhWIHSCLRK        TRUE\n",
       "4    TRUE 0.1214534      120.94383       2  DPVLYMYTLLDDyKDGDLR        TRUE\n",
       "5    TRUE 4.8545825        0.00000       2                  nan       FALSE\n"
      ]
     },
     "metadata": {},
     "output_type": "display_data"
    },
    {
     "data": {
      "image/png": "[encoded data removed]"
     },
     "metadata": {},
     "output_type": "display_data"
    },
    {
     "data": {
      "image/png": "[encoded data removed]"
     },
     "metadata": {},
     "output_type": "display_data"
    },
    {
     "data": {
      "image/png": "[encoded data removed]"
     },
     "metadata": {},
     "output_type": "display_data"
    },
    {
     "data": {
      "image/png": "[encoded data removed]"
     },
     "metadata": {},
     "output_type": "display_data"
    },
    {
     "data": {
      "image/png": "[encoded data removed]"
     },
     "metadata": {},
     "output_type": "display_data"
    },
    {
     "data": {
      "image/png": "[encoded data removed]"
     },
     "metadata": {},
     "output_type": "display_data"
    }
   ],
   "source": [
    "%%R -i df2\n",
    "\n",
    "library(ggplot2)\n",
    "df2['crosslinked'] <- df2[['Best.localization.s.']]!='nan'\n",
    "print(head(df2))\n",
    "df2$Score <- as.numeric(as.character(df2$Score))\n",
    "df2$Best.loc.score <- as.numeric(as.character(df2$Best.loc.score))\n",
    "\n",
    "p = ggplot(df2, aes(Score)) + theme_bw() + facet_wrap(~tr_only)\n",
    "\n",
    "p1 = p + geom_density(aes(colour=crosslinked))\n",
    "p2 = p + geom_histogram(position='dodge', aes(colour=crosslinked, fill=crosslinked))\n",
    "\n",
    "print(p1)\n",
    "print(p2)\n",
    "\n",
    "p = ggplot(df2, aes(log(Best.loc.score))) + theme_bw()\n",
    "\n",
    "p1 = p + geom_density(aes(colour=tr_only))\n",
    "p2 = p + geom_histogram(position='dodge', aes(colour=tr_only, fill=tr_only))\n",
    "\n",
    "print(p1)\n",
    "print(p2)\n",
    "\n",
    "\n",
    "df2$bin_matches <- .bincode(df2$matches, breaks=c(0,1,2,3,5,10,100))\n",
    "#print(head(df))\n",
    "p = ggplot(df2, aes(Score)) + theme_bw()\n",
    "p3 = p + geom_density(aes(colour=factor(bin_matches)))\n",
    "p4 = p + geom_histogram(position='dodge', aes(colour=factor(bin_matches), fill=factor(bin_matches)))\n",
    "\n",
    "print(p3)\n",
    "print(p4)"
   ]
  },
  {
   "cell_type": "code",
   "execution_count": 8,
   "metadata": {
    "collapsed": false
   },
   "outputs": [
    {
     "name": "stdout",
     "output_type": "stream",
     "text": [
      "21163\n",
      "44187\n"
     ]
    }
   ],
   "source": [
    "proteins = list()\n",
    "for group in df['Proteins']:\n",
    "    proteins.extend([x.split(\"|\")[1] for x in group.split(\",\")])\n",
    "    \n",
    "\n",
    "print(len(df['Proteins']))\n",
    "print(len(proteins))\n",
    "\n",
    "#seq_dict = {accession:seq for accession, taxid, seq, method in sequence.getSequences(set(proteins))}\n"
   ]
  },
  {
   "cell_type": "code",
   "execution_count": 10,
   "metadata": {
    "collapsed": false
   },
   "outputs": [
    {
     "name": "stdout",
     "output_type": "stream",
     "text": [
      "25527\n",
      "20878\n",
      "(21163, 32)\n"
     ]
    }
   ],
   "source": [
    "pep2pro = collections.defaultdict(lambda: collections.defaultdict(set))\n",
    "pep2allpro = collections.defaultdict(set)\n",
    "pro2pep = collections.defaultdict(set)\n",
    "top_level_proteins = set()\n",
    "initial_proteins = set()\n",
    "#print(df.head(2))\n",
    "\n",
    "for row_ix, row_values in df[['Proteins', 'Peptide']].iterrows():\n",
    "\n",
    "    proteins = row_values['Proteins'].split(\",\")\n",
    "    peptide = row_values['Peptide']\n",
    "\n",
    "    if peptide in pep2pro:\n",
    "        assert pep2allpro[peptide] == proteins, (\n",
    "            \"The same peptide is observed more than once with different proteins!\")\n",
    "    pep2allpro[peptide] = proteins\n",
    "    for protein in proteins:\n",
    "        initial_proteins.add(protein)\n",
    "        pro2pep[protein].add(peptide)\n",
    "        \n",
    "        if protein.split(\"|\")[0] == \"sp\":\n",
    "            protein_level = 1\n",
    "            top_level_proteins.add(protein)\n",
    "        elif protein.split(\"|\")[0] == \"tr\":\n",
    "            protein_level = 2\n",
    "            #top_level_proteins.add(protein)\n",
    "        else:\n",
    "            raise ValueError(\"Protein does not appear to be either SwissProt(sp) or TrEMBL(tr)\")\n",
    "\n",
    "        pep2pro[peptide][protein_level].add(protein)\n",
    "    \n",
    "print(len(initial_proteins))\n",
    "print(len(pep2pro))\n",
    "print(df.shape)\n"
   ]
  },
  {
   "cell_type": "code",
   "execution_count": 11,
   "metadata": {
    "collapsed": false
   },
   "outputs": [
    {
     "name": "stdout",
     "output_type": "stream",
     "text": [
      "10426\n"
     ]
    }
   ],
   "source": [
    "print(len(top_level_proteins))"
   ]
  },
  {
   "cell_type": "code",
   "execution_count": 13,
   "metadata": {
    "collapsed": false
   },
   "outputs": [
    {
     "name": "stdout",
     "output_type": "stream",
     "text": [
      "{'tr|A0A0A0MR30|A0A0A0MR30_HUMAN'}\n"
     ]
    }
   ],
   "source": [
    "tr_only_peptides = set([x for x in pep2pro.keys() if len(pep2pro[x][1])==0])\n",
    "\n",
    "for peptide in tr_only_peptides:\n",
    "    upgraded = pep2pro[peptide][2]\n",
    "    top_level_proteins.update(upgraded)\n",
    "    pep2pro[peptide][2] = pep2pro[peptide][2].difference(set(upgraded))\n",
    "    pep2pro[peptide][1] = pep2pro[peptide][1].union(set(upgraded))\n",
    "print(upgraded)"
   ]
  },
  {
   "cell_type": "code",
   "execution_count": 14,
   "metadata": {
    "collapsed": false
   },
   "outputs": [
    {
     "name": "stdout",
     "output_type": "stream",
     "text": [
      "20878\n",
      "20814 64\n",
      "20814 44\n",
      "20774 40\n",
      "20748 26\n",
      "20725 23\n",
      "20705 20\n",
      "20687 18\n",
      "20639 16\n",
      "20578 15\n",
      "20536 14\n",
      "20458 13\n",
      "20293 11\n",
      "20143 10\n",
      "19944 9\n",
      "19599 8\n",
      "19161 7\n",
      "18312 6\n",
      "16963 5\n",
      "14881 4\n",
      "11588 3\n",
      "6286 2\n",
      "0 1\n",
      "set()\n",
      "\n",
      "\n",
      "peptides dicts:\n",
      "\n"
     ]
    }
   ],
   "source": [
    "retained_proteins = []\n",
    "peptides = copy.deepcopy(set(pep2pro.keys()))\n",
    "peptide_counts = {}\n",
    "\n",
    "tmppro2pep = copy.deepcopy(pro2pep)\n",
    "new_top_level_proteins = copy.deepcopy(top_level_proteins)\n",
    "new_pep2pro = collections.defaultdict(set)\n",
    "\n",
    "n = max(map(len, tmppro2pep.values()))\n",
    "print(len(peptides))\n",
    "while True:\n",
    "\n",
    "    if n == 0:\n",
    "        break\n",
    "\n",
    "    #n = min(n-1, top_score+1)\n",
    "    n -= 1 \n",
    "\n",
    "    if len(peptides) == 0:\n",
    "        break\n",
    "    top_proteins = set()\n",
    "    top_score = 0\n",
    "    for protein in new_top_level_proteins:\n",
    "        if len(tmppro2pep[protein]) == top_score:\n",
    "            top_proteins.add(protein)\n",
    "        elif len(tmppro2pep[protein]) > top_score:\n",
    "            top_score = len(tmppro2pep[protein])\n",
    "            top_proteins = set((protein,))\n",
    "\n",
    "    for top_protein in top_proteins:\n",
    "        #print(top_protein, top_score, len(new_pep2pro), len(new_top_level_proteins))\n",
    "    \n",
    "        try:\n",
    "            new_top_level_proteins.remove(top_protein)\n",
    "        except:\n",
    "            print(top_score)\n",
    "            print(len(peptides))\n",
    "            print(top_protein, tmppro2pep[top_protein])\n",
    "            raise ValueError()\n",
    "    \n",
    "        retained_proteins.append(top_protein)\n",
    "    \n",
    "        for peptide in pro2pep[top_protein]:\n",
    "            new_pep2pro[peptide].add(top_protein)\n",
    "            if peptide in peptides:\n",
    "                peptides.remove(peptide)\n",
    "            for protein in pep2pro[peptide][1]:\n",
    "                if protein == top_protein:\n",
    "                    continue\n",
    "                if peptide in tmppro2pep[protein]:\n",
    "                    tmppro2pep[protein].remove(peptide)\n",
    "    print(len(peptides), top_score)\n",
    "print(peptides)\n",
    "print(\"\\n\\npeptides dicts:\\n\")\n",
    "assert set(pep2pro.keys()).difference(set(new_pep2pro.keys())) == set()"
   ]
  },
  {
   "cell_type": "code",
   "execution_count": 65,
   "metadata": {
    "collapsed": false
   },
   "outputs": [
    {
     "name": "stdout",
     "output_type": "stream",
     "text": [
      "  Checked                                      Show Spectrum         RT  \\\n",
      "0   False  -52;1671;(304.154,25.6,\"[b3]+\")|(249.178,8.0,\"...  12.372800   \n",
      "1   False  -52;2594;(1458.469,53.0,\"[b11]+\")|(325.128,24....  19.493300   \n",
      "2   False  -52;2627;(817.805,0.6,\"[b6]+\")|(487.129,6.7,\"[...  19.740383   \n",
      "3   False  -52;2639;(189.203,0.5,\"[b4]+++\")|(226.163,0.2,...  19.820333   \n",
      "4   False  -52;2776;(801.647,0.2,\"[b13]++\")|(865.512,0.3,...  20.871150   \n",
      "\n",
      "   Original m/z                                           Proteins  \\\n",
      "0      322.6771  sp|Q9H2X9|S12A5_HUMAN,sp|Q9UP95|S12A4_HUMAN,sp...   \n",
      "1     1062.3724  sp|P04798|CP1A1_HUMAN,tr|E7EMT5|E7EMT5_HUMAN,t...   \n",
      "2     1069.3793                               sp|O75923|DYSF_HUMAN   \n",
      "3      595.2694                              sp|P51178|PLCD1_HUMAN   \n",
      "4      903.7130       sp|Q56A73|SPIN4_HUMAN,tr|X6R8Y7|X6R8Y7_HUMAN   \n",
      "\n",
      "             RNA                                            Peptide  Charge  \\\n",
      "0           none                                             VFGHGK       2   \n",
      "1       U+H1O3P1  HAC(Carbamidomethyl)C(Carbamidomethyl)EHFQM(Ox...       2   \n",
      "2  U-H2O1+H1O3P1         C(Carbamidomethyl)YMYQARDLAAM(Oxidation)DK       2   \n",
      "3         U-H2O1                       LQHWIHSC(Carbamidomethyl)LRK       3   \n",
      "4       U+H1O3P1                                DPVLYMYTLLDDYKDGDLR       3   \n",
      "\n",
      "      Score  Best loc score          ...          Rel. prec. error ppm  \\\n",
      "0  0.639248        0.000000          ...                           7.1   \n",
      "1  0.423724      151.164372          ...                          -9.7   \n",
      "2  0.150886       65.723601          ...                          -2.2   \n",
      "3  2.793315       26.612652          ...                           9.0   \n",
      "4  0.121453      120.943826          ...                          -6.1   \n",
      "\n",
      "         M+H       M+2H      M+3H      M+4H  \\\n",
      "0   644.3515   322.6794  215.4553  161.8433   \n",
      "1  2123.7170  1062.3622  708.5772  531.6847   \n",
      "2  2137.7466  1069.3769  713.2537  535.1921   \n",
      "3  1783.8098   892.4085  595.2748  446.7079   \n",
      "4  2709.1079  1355.0576  903.7075  678.0324   \n",
      "\n",
      "                                 Fragment annotation  tr_only  matches  \\\n",
      "0  (304.154,25.6,\"[b3]+\")|(249.178,8.0,\"[b5]++\")|...     True        6   \n",
      "1  (1458.469,53.0,\"[b11]+\")|(325.128,24.0,\"[y5]++...     True        3   \n",
      "2  (817.805,0.6,\"[b6]+\")|(487.129,6.7,\"[b7]++\")|(...     True        1   \n",
      "3  (189.203,0.5,\"[b4]+++\")|(226.163,0.2,\"[b5]+++\"...     True        1   \n",
      "4  (801.647,0.2,\"[b13]++\")|(865.512,0.3,\"[b14]++\"...     True        2   \n",
      "\n",
      "                                      top_protein(s)     top_uniprot_id(s)  \n",
      "0  sp|Q9H2X9|S12A5_HUMAN;sp|Q9UP95|S12A4_HUMAN;sp...  Q9H2X9;Q9UP95;Q9Y666  \n",
      "1                              sp|P04798|CP1A1_HUMAN                P04798  \n",
      "2                               sp|O75923|DYSF_HUMAN                O75923  \n",
      "3                              sp|P51178|PLCD1_HUMAN                P51178  \n",
      "4                              sp|Q56A73|SPIN4_HUMAN                Q56A73  \n",
      "\n",
      "[5 rows x 34 columns]\n",
      "11823\n",
      "11823\n"
     ]
    }
   ],
   "source": [
    "df['top_protein(s)'] = [\";\".join(new_pep2pro[protein]) for protein in df['Peptide']]\n",
    "df['top_uniprot_id(s)'] = [\";\".join([protein_id.split(\"|\")[1] for protein_id in new_pep2pro[protein]])\n",
    "                           for protein in df['Peptide']]\n",
    "print(df.head())\n",
    "print(len(set(df['top_protein(s)'])))\n",
    "print(len(set(df['top_uniprot_id(s)'])))"
   ]
  },
  {
   "cell_type": "code",
   "execution_count": 85,
   "metadata": {
    "collapsed": false
   },
   "outputs": [
    {
     "name": "stdout",
     "output_type": "stream",
     "text": [
      "25527 11885\n",
      "10426 9596\n"
     ]
    }
   ],
   "source": [
    "initial_proteins = set()\n",
    "final_proteins = set()\n",
    "initial_sp_proteins = set()\n",
    "final_sp_proteins = set()\n",
    "\n",
    "for protein in df['Proteins']:\n",
    "    for p in protein.split(\",\"):\n",
    "        initial_proteins.add(p.split(\"|\")[1])\n",
    "        if p.split(\"|\")[0] == \"sp\":\n",
    "            initial_sp_proteins.add(p.split(\"|\")[1])\n",
    "            \n",
    "\n",
    "for protein in df['top_protein(s)']:\n",
    "    for p in protein.split(\";\"):\n",
    "        final_proteins.add(p.split(\"|\")[1])\n",
    "        if p.split(\"|\")[0] == \"sp\":\n",
    "            final_sp_proteins.add(p.split(\"|\")[1])\n",
    "\n",
    "print(len(initial_proteins), len(final_proteins))\n",
    "print(len(initial_sp_proteins), len(final_sp_proteins))"
   ]
  },
  {
   "cell_type": "code",
   "execution_count": 86,
   "metadata": {
    "collapsed": false
   },
   "outputs": [
    {
     "name": "stdout",
     "output_type": "stream",
     "text": [
      "[0.9391390634598119, 0.04668525256343618, 0.008694419505741152, 0.003024145915040401, 0.0009450455984501252, 0.0005670273590700751, 0.0002362613996125313, 0.00018900911969002505, 0.00014175683976751878, 9.450455984501253e-05, 4.7252279922506264e-05, 4.7252279922506264e-05, 4.7252279922506264e-05, 4.7252279922506264e-05, 4.7252279922506264e-05, 4.7252279922506264e-05]\n"
     ]
    }
   ],
   "source": [
    "counts = collections.Counter([len(x.split(\";\")) for x in df['top_protein(s)']])\n",
    "print([y/sum(counts.values()) for x,y in counts.most_common()])\n"
   ]
  },
  {
   "cell_type": "code",
   "execution_count": 211,
   "metadata": {
    "collapsed": false
   },
   "outputs": [
    {
     "name": "stdout",
     "output_type": "stream",
     "text": [
      "70956\n",
      "71071\n"
     ]
    }
   ],
   "source": [
    "cRAP_proteins = set()\n",
    "protein2description = {entry.title.split(\" \")[0]: \" \".join(entry.title.split(\" \")[1:])\n",
    "                       for entry in FastaIterator(open(fasta_inf))}\n",
    "protein2seq = {entry.title.split(\" \")[0]:entry.sequence for entry in FastaIterator(open(fasta_inf))}\n",
    "print(len(protein2seq))\n",
    "for entry in FastaIterator(open(crap_inf)):\n",
    "    protein2seq[entry.title.split(\" \")[0]] = entry.sequence\n",
    "    protein2description[entry.title.split(\" \")[0]] = entry.title.split(\" \")[0]\n",
    "    cRAP_proteins.add(entry.title.split(\" \")[0])\n",
    "print(len(protein2seq))"
   ]
  },
  {
   "cell_type": "code",
   "execution_count": 241,
   "metadata": {
    "collapsed": false
   },
   "outputs": [
    {
     "name": "stdout",
     "output_type": "stream",
     "text": [
      "['sp|Q70Z53|F10C1_HUMAN'] {'sp|Q70Z53|F10C1_HUMAN'}\n"
     ]
    }
   ],
   "source": [
    "print(row['Proteins'].split(\",\"), matches)"
   ]
  },
  {
   "cell_type": "code",
   "execution_count": 240,
   "metadata": {
    "collapsed": false
   },
   "outputs": [
    {
     "name": "stdout",
     "output_type": "stream",
     "text": [
      "done 500 lines and checked 152 peptide matches\n",
      "done 1000 lines and checked 296 peptide matches\n",
      "done 1500 lines and checked 460 peptide matches\n",
      "done 2000 lines and checked 616 peptide matches\n",
      "done 2500 lines and checked 769 peptide matches\n",
      "done 3000 lines and checked 910 peptide matches\n",
      "done 3500 lines and checked 1037 peptide matches\n",
      "done 4000 lines and checked 1174 peptide matches\n",
      "done 4500 lines and checked 1329 peptide matches\n",
      "done 5000 lines and checked 1461 peptide matches\n",
      "done 5500 lines and checked 1614 peptide matches\n",
      "done 6000 lines and checked 1782 peptide matches\n",
      "done 6500 lines and checked 1920 peptide matches\n",
      "done 7000 lines and checked 2077 peptide matches\n",
      "done 7500 lines and checked 2243 peptide matches\n",
      "done 8000 lines and checked 2416 peptide matches\n",
      "done 8500 lines and checked 2610 peptide matches\n",
      "done 9000 lines and checked 2800 peptide matches\n",
      "done 9500 lines and checked 2974 peptide matches\n",
      "done 10000 lines and checked 3133 peptide matches\n",
      "done 10500 lines and checked 3312 peptide matches\n",
      "done 11000 lines and checked 3480 peptide matches\n",
      "done 11500 lines and checked 3644 peptide matches\n",
      "done 12000 lines and checked 3830 peptide matches\n",
      "done 12500 lines and checked 4004 peptide matches\n",
      "done 13000 lines and checked 4167 peptide matches\n",
      "done 13500 lines and checked 4340 peptide matches\n",
      "done 14000 lines and checked 4503 peptide matches\n",
      "done 14500 lines and checked 4683 peptide matches\n",
      "done 15000 lines and checked 4847 peptide matches\n",
      "done 15500 lines and checked 5029 peptide matches\n",
      "done 16000 lines and checked 5208 peptide matches\n",
      "done 16500 lines and checked 5381 peptide matches\n",
      "done 17000 lines and checked 5554 peptide matches\n",
      "done 17500 lines and checked 5735 peptide matches\n",
      "done 18000 lines and checked 5939 peptide matches\n",
      "done 18500 lines and checked 6117 peptide matches\n",
      "done 19000 lines and checked 6306 peptide matches\n",
      "done 19500 lines and checked 6502 peptide matches\n",
      "done 20000 lines and checked 6694 peptide matches\n",
      "done 20500 lines and checked 6874 peptide matches\n",
      "done 21000 lines and checked 7026 peptide matches\n",
      "MHGHGGYDSDFSDDERCGESSK\n"
     ]
    }
   ],
   "source": [
    "# check whether RNPxl identifies all protein matches OK?\n",
    "n1 = 0\n",
    "n2 = 0\n",
    "for row_ix, row in df.iterrows():\n",
    "    n1 += 1\n",
    "    peptide = row['Best localization(s)']\n",
    "    if n1 % 500 == 0:\n",
    "        print(\"done %i lines and checked %i peptide matches\" %(n1, n2))\n",
    "    if peptide != \"nan\":\n",
    "        n2 += 1\n",
    "        matches = set()\n",
    "        peptide = peptide.upper()\n",
    "        for protein, seq in protein2seq.items():\n",
    "            if peptide in seq.upper():\n",
    "                matches.add(protein)\n",
    "        if not set(row['Proteins'].split(\",\")) == matches:\n",
    "            print(row['Proteins'], matches)\n",
    "            break\n",
    "print(row['Best localization(s)'])"
   ]
  },
  {
   "cell_type": "code",
   "execution_count": 142,
   "metadata": {
    "collapsed": false
   },
   "outputs": [
    {
     "name": "stdout",
     "output_type": "stream",
     "text": [
      ">sp|P04798|CP1A1_HUMAN Cytochrome P450 1A1 OS=Homo sapiens GN=CYP1A1 PE=1 SV=1\n",
      "MLFPISMSATEFLLASVIFCLVFWVIRASRPQVPKGLKNPPGPWGWPLIGHMLTLGKNPHLALSRMSQQYGDVLQIRIGSTPVVVLSGLDTIRQALVRQGDDFKGRPDLYTFTLISNGQSMSFSPDSGPVWAARRRLAQNGLKSFSIASDPASSTSCYLEEHVSKEAEVLISTLQELMAGPGHFNPYRYVVVSVTNVICAICFGRRYDHNHQELLSLVNLNNNFGEVVGSGNPADFIPILRYLPNPSLNAFKDLNEKFYSFMQKMVKEHYKTFEKGHIRDITDSLIEHCQEKQLDENANVQLSDEKIINIVLDLFGAGFDTVTTAISWSLMYLVMNPRVQRKIQEELDTVIGRSRRPRLSDRSHLPYMEAFILETFRHSSFVPFTIPHSTTRDTSLKGFYIPKGRCVFVNQWQINHDQKLWVNPSEFLPERFLTPDGAIDKVLSEKVIIFGMGKRKCIGETIARWEVFLFLAILLQRVEFSVPLGVKVDMTPIYGLTMKHACCEHFQMQLRS\n"
     ]
    }
   ],
   "source": [
    "for entry in FastaIterator(open(fasta_inf)):\n",
    "    if \"P04798\" in entry.title:\n",
    "        print(entry)"
   ]
  },
  {
   "cell_type": "code",
   "execution_count": 226,
   "metadata": {
    "collapsed": false
   },
   "outputs": [],
   "source": [
    "protein_lengths = []\n",
    "protein_descriptions = []\n",
    "crap_proteins = []\n",
    "\n",
    "position_in_peptide = []\n",
    "position_in_protein = []\n",
    "\n",
    "motif_13 = []\n",
    "motif_15 = []\n",
    "motif_17 = []\n",
    "\n",
    "def getMotifWindow(positions, proteins, length):\n",
    "    assert len(positions) == len(proteins), \"must have as many positions as proteins\"\n",
    "    windows = set()\n",
    "\n",
    "    for position, protein_seq in zip(positions, proteins):\n",
    "        buffer = ((length - 1) / 2)\n",
    "        windows.add(protein_seq[int(position-buffer): int(position+buffer) + 1])\n",
    "\n",
    "    if min([len(x) for x in windows]) != length:\n",
    "        return \"protein_too_short_for_window\"\n",
    "    if len(windows) == 1:\n",
    "        return list(windows)[0]\n",
    "    else:\n",
    "        return \"different_sequences_for_the_proteins\"\n",
    "\n",
    "for ix, row in df.iterrows():\n",
    "    peptide = row['Best localization(s)']\n",
    "    proteins = row['top_protein(s)'].split(\";\")\n",
    "    protein_lengths.append(\";\".join(map(str, [len(protein2seq[x]) for x in proteins])))\n",
    "    protein_descriptions.append(\";\".join([protein2description[x] for x in proteins]))\n",
    "    \n",
    "    crap_protein = 0\n",
    "    for protein in proteins:\n",
    "        if protein in cRAP_proteins:\n",
    "            crap_protein = 1\n",
    "            break\n",
    "    crap_proteins.append(crap_protein)\n",
    "        \n",
    "    \n",
    "    if row['Best localization(s)']!='nan' and row['Best loc score']>0:\n",
    "        \n",
    "        peptide_positions = [re.search(peptide.upper(), protein2seq[x]).start() for\n",
    "                             x in proteins]\n",
    "        crosslink_position = None\n",
    "        for ix, aa in enumerate(peptide):\n",
    "            if aa == aa.lower():\n",
    "                crosslink_position = ix\n",
    "        assert crosslink_position is not None, \"no crosslinked position was found(!): %s\" % peptide\n",
    "        \n",
    "        position_in_peptide.append(crosslink_position + 1)\n",
    "        \n",
    "        protein_positions = [crosslink_position + x for x in peptide_positions]\n",
    "        position_in_protein.append(\";\".join(map(str, [x + 1 for x in protein_positions])))\n",
    "        \n",
    "        motif_13.append(\n",
    "            getMotifWindow(protein_positions, [protein2seq[x] for x in proteins], 13))\n",
    "        motif_15.append(\n",
    "            getMotifWindow(protein_positions, [protein2seq[x] for x in proteins], 15))\n",
    "        motif_17.append(\n",
    "            getMotifWindow(protein_positions, [protein2seq[x] for x in proteins], 17))\n",
    "\n",
    "    else:\n",
    "        position_in_peptide.append(\"no_crosslink\")\n",
    "        position_in_protein.append(\"no_crosslink\")\n",
    "        motif_13.append(\"no_crosslink\")\n",
    "        motif_15.append(\"no_crosslink\")\n",
    "        motif_17.append(\"no_crosslink\")\n",
    "\n",
    "\n",
    "df['protein_length(s)'] = protein_lengths\n",
    "df['protein_description(s)'] = protein_descriptions\n",
    "df['crap_protein'] = crap_proteins\n",
    "\n",
    "df['position_in_peptide'] = position_in_peptide\n",
    "df['position_in_protein(s)'] = position_in_protein\n",
    "\n",
    "df['window_13'] = motif_13\n",
    "df['window_15'] = motif_15\n",
    "df['window_17'] = motif_17"
   ]
  },
  {
   "cell_type": "code",
   "execution_count": 221,
   "metadata": {
    "collapsed": false
   },
   "outputs": [
    {
     "name": "stdout",
     "output_type": "stream",
     "text": [
      "(21163, 42)\n",
      "0    21083\n",
      "1       80\n",
      "Name: crap_protein, dtype: int64\n",
      "no_crosslink                            14289\n",
      "protein_too_short_for_window              210\n",
      "different_sequences_for_the_proteins       62\n",
      "Name: window_13, dtype: int64\n",
      "no_crosslink                            14289\n",
      "protein_too_short_for_window              267\n",
      "different_sequences_for_the_proteins       70\n",
      "Name: window_15, dtype: int64\n",
      "no_crosslink                            14289\n",
      "protein_too_short_for_window              327\n",
      "different_sequences_for_the_proteins       73\n",
      "Name: window_17, dtype: int64\n",
      "     Checked                                      Show Spectrum         RT  \\\n",
      "256    False  -52;3994;(268.209,10.3,\"[b3]+\")|(415.435,2.7,\"...  28.260817   \n",
      "922    False  -52;5581;(359.017,3.5,\"[b3]+\")|(209.181,1.1,\"[...  34.105717   \n",
      "1036   False  -52;5855;(301.245,1.1,\"[b5]++\")|(602.527,2.2,\"...  34.848317   \n",
      "1060   False  -52;5907;(228.085,14.5,\"[b2]+\")|(327.273,5.5,\"...  34.972683   \n",
      "1148   False  -52;6120;(104.147,1.2,\"[b3]+++\")|(156.284,0.2,...  35.493750   \n",
      "\n",
      "      Original m/z                                           Proteins  \\\n",
      "256       315.1726      tr|H7BYR8|H7BYR8_HUMAN,tr|J3KT01|J3KT01_HUMAN   \n",
      "922       600.7477  sp|Q13107|UBP4_HUMAN,sp|Q9Y4E8|UBP15_HUMAN,tr|...   \n",
      "1036      550.2650  sp|Q7Z478|DHX29_HUMAN,sp|Q9H2U1|DHX36_HUMAN,tr...   \n",
      "1060      339.5129        sp|P30279|CCND2_HUMAN,sp|Q9H741|CL049_HUMAN   \n",
      "1148      304.1652  sp|Q15327|ANKR1_HUMAN,sp|Q8IYI6|EXOC8_HUMAN,sp...   \n",
      "\n",
      "                RNA                   Peptide  Charge     Score  \\\n",
      "256   U-H2O1-H1O3P1                    GLPFRK       3  1.996798   \n",
      "922   U-H2O1-H1O3P1                  NEDGTWPR       2  2.363267   \n",
      "1036  U-H2O1-H1O3P1  IVC(Carbamidomethyl)TQPR       2  5.105031   \n",
      "1060       U-H1O3P1                    RAVRDR       3  2.786767   \n",
      "1148  U-H2O1-H1O3P1                    LPVVEK       3  2.012008   \n",
      "\n",
      "      Best loc score      ...       \\\n",
      "256        19.164152      ...        \n",
      "922        21.266799      ...        \n",
      "1036       17.825735      ...        \n",
      "1060      137.200454      ...        \n",
      "1148       28.182452      ...        \n",
      "\n",
      "                                         top_protein(s)  \\\n",
      "256       tr|J3KT01|J3KT01_HUMAN;tr|H7BYR8|H7BYR8_HUMAN   \n",
      "922          sp|Q9Y4E8|UBP15_HUMAN;sp|Q13107|UBP4_HUMAN   \n",
      "1036        sp|Q7Z478|DHX29_HUMAN;sp|Q9H2U1|DHX36_HUMAN   \n",
      "1060        sp|P30279|CCND2_HUMAN;sp|Q9H741|CL049_HUMAN   \n",
      "1148  tr|F8VPI7|F8VPI7_HUMAN;sp|Q8IYI6|EXOC8_HUMAN;t...   \n",
      "\n",
      "                top_uniprot_id(s)  position_in_peptide  position_in_protein  \\\n",
      "256                 J3KT01;H7BYR8                    2              107;178   \n",
      "922                 Q9Y4E8;Q13107                    1              215;219   \n",
      "1036                Q7Z478;Q9H2U1                    3              627;261   \n",
      "1060                P30279;Q9H741                    3                15;42   \n",
      "1148  F8VPI7;Q8IYI6;E9PH62;Q15327                    6      251;691;251;138   \n",
      "\n",
      "                                 window_13  \\\n",
      "256   different_sequences_for_the_proteins   \n",
      "922   different_sequences_for_the_proteins   \n",
      "1036  different_sequences_for_the_proteins   \n",
      "1060  different_sequences_for_the_proteins   \n",
      "1148  different_sequences_for_the_proteins   \n",
      "\n",
      "                                 window_15  \\\n",
      "256   different_sequences_for_the_proteins   \n",
      "922   different_sequences_for_the_proteins   \n",
      "1036  different_sequences_for_the_proteins   \n",
      "1060  different_sequences_for_the_proteins   \n",
      "1148  different_sequences_for_the_proteins   \n",
      "\n",
      "                                 window_17  protein_lengths  \\\n",
      "256   different_sequences_for_the_proteins          180;236   \n",
      "922   different_sequences_for_the_proteins          981;963   \n",
      "1036  different_sequences_for_the_proteins        1369;1008   \n",
      "1060  different_sequences_for_the_proteins          289;205   \n",
      "1148  different_sequences_for_the_proteins  479;725;538;319   \n",
      "\n",
      "                                    protein_description  crap_protein  \n",
      "256   Myelin basic protein (Fragment) OS=Homo sapien...             0  \n",
      "922   Ubiquitin carboxyl-terminal hydrolase 15 OS=Ho...             0  \n",
      "1036  ATP-dependent RNA helicase DHX29 OS=Homo sapie...             0  \n",
      "1060  G1/S-specific cyclin-D2 OS=Homo sapiens GN=CCN...             0  \n",
      "1148  Double-stranded RNA-binding protein Staufen ho...             0  \n",
      "\n",
      "[5 rows x 42 columns]\n",
      "     Checked                                      Show Spectrum         RT  \\\n",
      "252    False  -52;3987;(258.371,0.5,\"[b4]++\")|(515.071,0.8,\"...  28.231300   \n",
      "804    False  -52;5285;(385.228,0.8,\"[b4]+\")|(199.180,27.4,\"...  33.155100   \n",
      "1049   False  -52;5887;(242.186,2.8,\"[b2]+\")|(371.228,3.8,\"[...  34.925133   \n",
      "1273   False  -52;6420;(561.095,100.0,\"[b6]+\")|(406.122,1.8,...  36.182083   \n",
      "1773   False  -52;7659;(289.973,0.2,\"[b3]+\")|(230.300,0.1,\"[...  38.697167   \n",
      "\n",
      "      Original m/z                                           Proteins  \\\n",
      "252       678.2879  sp|O43790|KRT86_HUMAN,sp|P78385|KRT83_HUMAN,sp...   \n",
      "804       381.5469    sp|P01031|CO5_HUMAN,sp|cRAP020|P01031|CO5_HUMAN   \n",
      "1049      383.9511                       sp|cRAP087|P02769|ALBU_BOVIN   \n",
      "1273      646.2350  sp|P00915|CAH1_HUMAN,sp|cRAP010|P00915|CAH1_HU...   \n",
      "1773      623.2828    sp|P01031|CO5_HUMAN,sp|cRAP020|P01031|CO5_HUMAN   \n",
      "\n",
      "           RNA                                         Peptide  Charge  \\\n",
      "252          U                                        QEEKEQIK       2   \n",
      "804   U-H1O3P1                                        GAKKPLER       3   \n",
      "1049      none  LKEC(Carbamidomethyl)C(Carbamidomethyl)DKPLLEK       4   \n",
      "1273    U-H2O1                                       GGPFSDSYR       2   \n",
      "1773  U-H1O3P1          MSAVEGIC(Carbamidomethyl)TSESPVIDHQGTK       4   \n",
      "\n",
      "          Score  Best loc score      ...       \\\n",
      "252    1.631769       78.216979      ...        \n",
      "804    0.804022        1.232972      ...        \n",
      "1049   5.832251        0.000000      ...        \n",
      "1273   1.163029       80.110620      ...        \n",
      "1773  11.784329      156.007487      ...        \n",
      "\n",
      "                                         top_protein(s)  \\\n",
      "252   sp|P78386|KRT85_HUMAN;sp|cRAP072|P78386|KRT85_...   \n",
      "804     sp|P01031|CO5_HUMAN;sp|cRAP020|P01031|CO5_HUMAN   \n",
      "1049                       sp|cRAP087|P02769|ALBU_BOVIN   \n",
      "1273  sp|P00915|CAH1_HUMAN;sp|cRAP010|P00915|CAH1_HUMAN   \n",
      "1773    sp|P01031|CO5_HUMAN;sp|cRAP020|P01031|CO5_HUMAN   \n",
      "\n",
      "                  top_uniprot_id(s)  position_in_peptide  position_in_protein  \\\n",
      "252   P78386;cRAP072;Q14533;cRAP068                    5      125;125;108;108   \n",
      "804                  P01031;cRAP020                    1              615;615   \n",
      "1049                        cRAP087         no_crosslink         no_crosslink   \n",
      "1273                 P00915;cRAP010                    4                85;85   \n",
      "1773                 P01031;cRAP020                    9              867;867   \n",
      "\n",
      "          window_13        window_15          window_17  protein_lengths  \\\n",
      "252   VKQEEKEQIKSLN  CVKQEEKEQIKSLNS  QCVKQEEKEQIKSLNSR  507;507;505;505   \n",
      "804   VYGVQRGAKKPLE  AVYGVQRGAKKPLER  SAVYGVQRGAKKPLERV        1676;1676   \n",
      "1049   no_crosslink     no_crosslink       no_crosslink              607   \n",
      "1273  VLKGGPFSDSYRL  SVLKGGPFSDSYRLF  RSVLKGGPFSDSYRLFQ          261;261   \n",
      "1773  AVEGICTSESPVI  SAVEGICTSESPVID  MSAVEGICTSESPVIDH        1676;1676   \n",
      "\n",
      "                                    protein_description  crap_protein  \n",
      "252   Keratin, type II cuticular Hb5 OS=Homo sapiens...             1  \n",
      "804   Complement C5 OS=Homo sapiens GN=C5 PE=1 SV=4;...             1  \n",
      "1049                       sp|cRAP087|P02769|ALBU_BOVIN             1  \n",
      "1273  Carbonic anhydrase 1 OS=Homo sapiens GN=CA1 PE...             1  \n",
      "1773  Complement C5 OS=Homo sapiens GN=C5 PE=1 SV=4;...             1  \n",
      "\n",
      "[5 rows x 42 columns]\n"
     ]
    }
   ],
   "source": [
    "print(df.shape)\n",
    "\n",
    "print(df['crap_protein'].value_counts())\n",
    "print(df['window_13'].value_counts().head(3))\n",
    "print(df['window_15'].value_counts().head(3))\n",
    "print(df['window_17'].value_counts().head(3))\n",
    "print(df[df['window_17']=='different_sequences_for_the_proteins'].head())\n",
    "print(df[df['crap_protein']==1].head())"
   ]
  },
  {
   "cell_type": "code",
   "execution_count": 230,
   "metadata": {
    "collapsed": false
   },
   "outputs": [],
   "source": [
    "new_column_order = [\"Best localization(s)\", \"RNA\", \"top_protein(s)\", \"top_uniprot_id(s)\",\n",
    "                    'protein_description(s)', 'protein_length(s)',\n",
    "                    'position_in_peptide', 'position_in_protein(s)', \n",
    "                    'window_13', 'window_15', 'window_17', 'crap_protein',\n",
    "                    \"Peptide\", \"Proteins\"]\n",
    "  \n",
    "new_column_order.extend([x for x in df.columns if x not in new_column_order])\n",
    "final_df = df[new_column_order]\n",
    "\n",
    "final_df.to_csv(os.path.join(os.path.dirname(infile), \"RNA_Ptn_Trizol_test_output.tsv\"),\n",
    "                index=False, sep=\"\\t\")"
   ]
  }
 ],
 "metadata": {
  "anaconda-cloud": {},
  "kernelspec": {
   "display_name": "Python [conda root]",
   "language": "python",
   "name": "conda-root-py"
  },
  "language_info": {
   "codemirror_mode": {
    "name": "ipython",
    "version": 3
   },
   "file_extension": ".py",
   "mimetype": "text/x-python",
   "name": "python",
   "nbconvert_exporter": "python",
   "pygments_lexer": "ipython3",
   "version": "3.5.2"
  }
 },
 "nbformat": 4,
 "nbformat_minor": 1
}
