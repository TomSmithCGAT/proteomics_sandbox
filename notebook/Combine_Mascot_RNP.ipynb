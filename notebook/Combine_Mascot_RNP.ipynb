{
 "cells": [
  {
   "cell_type": "markdown",
   "metadata": {},
   "source": [
    "Here we want to combine the outputs from Mascot and RNPxl to annotate the cross-linked peptides with their 'master protein' and the position in the protein for the cross-linked RNA and sequence surrounding the modified position"
   ]
  },
  {
   "cell_type": "code",
   "execution_count": 60,
   "metadata": {
    "collapsed": true
   },
   "outputs": [],
   "source": [
    "mascot_protein_infile = \"../raw/Trizol_RNA_Ptn_testMascot_Proteins.txt\"\n",
    "rnp_infile = \"../raw/RNA_Ptn_Trizol.xlsx\""
   ]
  },
  {
   "cell_type": "code",
   "execution_count": 58,
   "metadata": {
    "collapsed": true
   },
   "outputs": [],
   "source": [
    "import csv\n",
    "import pandas as pd"
   ]
  },
  {
   "cell_type": "code",
   "execution_count": 34,
   "metadata": {
    "collapsed": false
   },
   "outputs": [
    {
     "name": "stdout",
     "output_type": "stream",
     "text": [
      "['False', 'High', 'None', '9222934727801647552', '526', 'P30508', 'HLA class I histocompatibility antigen, Cw-12 alpha chain OS=Homo sapiens GN=HLA-C PE=1 SV=2', 'MRVMAPRTLILLLSGALALTETWACSHSMRYFYTAVSRPGRGEPRFIAVGYVDDTQFVRFDSDAASPRGEPRAPWVEQEGPEYWDRETQKYKRQAQADRVSLRNLRGYYNQSEAGSHTLQRMYGCDLGPDGRLLRGYDQSAYDGKDYIALNEDLRSWTAADTAAQITQRKWEAAREAEQWRAYLEGTCVEWLRRYLENGKETLQRAEHPKTHVTHHPVSDHEATLRCWALGFYPAEITLTWQRDGEDQTQDTELVETRPAGDGTFQKWAAVVVPSGEEQRYTCHVQHEGLPEPLTLRWEPSSQPTIPIVGIVAGLAVLAVLAVLGAVMAVVMCRRKSSGGKGGSCSQAASSNSAQGSDESLIACKA', '>sp|P30508|1C12_HUMAN HLA class I histocompatibility antigen, Cw-12 alpha chain OS=Homo sapiens GN=HLA-C PE=1 SV=2', '0', '11.7707236785711', '0', '14.4808743169399', '3', '4', '0', '2', '1', '366', '40.86', '6.3', 'High', 'Not Found', 'Not Found', 'High', 'Not Found', 'High', '0.389', '0', '', '', '91.3075896966302', '14.4808743169399', '3', '4']\n",
      "['Checked', 'Protein FDR Confidence', 'Master', 'Unique Sequence ID', 'Protein Group IDs', 'Accession', 'Description', 'Sequence', 'FASTA Title Lines', 'Exp q-value', 'Sum PEP Score', 'Number of Decoy Proteins', 'Coverage', 'Number of Peptides', 'Number of PSMs', 'Number of Protein Unique Peptides', 'Number of Unique Peptides', 'Number of Protein Groups', 'Number of AAs', 'MW in kDa', 'calc pI', 'Found in File in F1 RNA_Ptn_A1', 'Found in File in F2 RNA_Ptn_B1', 'Found in Sample in S2 F2 Control', 'Found in Sample in S1 F1 Sample', 'Found in Sample Group in S2 F2 Control', 'Found in Sample Group in S1 F1 Sample', 'emPAI', 'Coverage RNPxl', 'Number of Peptides RNPxl', 'Number of PSMs RNPxl', 'Score Mascot', 'Coverage Mascot', 'Number of Peptides Mascot', 'Number of PSMs Mascot']\n",
      "3385\n"
     ]
    }
   ],
   "source": [
    "master_proteins = set()\n",
    "all_proteins = set()\n",
    "with open(mascot_protein_infile) as inf:\n",
    "    reader = csv.reader(inf, delimiter='\\t', quotechar='\"')\n",
    "    header = next(reader)\n",
    "    for line in reader:\n",
    "        if line[2] == 'IsMasterProtein':\n",
    "            master_proteins.add(line[5])\n",
    "        all_proteins.add(line[5])\n",
    "\n",
    "print(line)\n",
    "print(header)\n",
    "print(len(master_proteins))"
   ]
  },
  {
   "cell_type": "code",
   "execution_count": 62,
   "metadata": {
    "collapsed": true
   },
   "outputs": [],
   "source": [
    "rnp_df = pd.read_excel(rnp_infile)"
   ]
  },
  {
   "cell_type": "code",
   "execution_count": 75,
   "metadata": {
    "collapsed": false
   },
   "outputs": [
    {
     "name": "stdout",
     "output_type": "stream",
     "text": [
      "\n",
      "N: 1\n",
      "peptide HAC(Carbamidomethyl)C(Carbamidomethyl)EHFQM(Oxidation)QLRS\n",
      "localisation score:  151.164372065493\n",
      "protein:  ['P04798', 'E7EMT5', 'Q5J9B1']\n",
      "complete protein annotation:  sp|P04798|CP1A1_HUMAN,tr|E7EMT5|E7EMT5_HUMAN,tr|Q5J9B1|Q5J9B1_HUMAN\n",
      "protein in masters:  [False, False, False]\n",
      "protein in all:  [False, False, False]\n",
      "\n",
      "N: 2\n",
      "peptide C(Carbamidomethyl)YMYQARDLAAM(Oxidation)DK\n",
      "localisation score:  65.7236008367573\n",
      "protein:  ['O75923']\n",
      "complete protein annotation:  sp|O75923|DYSF_HUMAN\n",
      "protein in masters:  [False]\n",
      "protein in all:  [False]\n",
      "\n",
      "N: 3\n",
      "peptide LQHWIHSC(Carbamidomethyl)LRK\n",
      "localisation score:  26.6126517741941\n",
      "protein:  ['P51178']\n",
      "complete protein annotation:  sp|P51178|PLCD1_HUMAN\n",
      "protein in masters:  [False]\n",
      "protein in all:  [False]\n",
      "\n",
      "N: 4\n",
      "peptide DPVLYMYTLLDDYKDGDLR\n",
      "localisation score:  120.943825927194\n",
      "protein:  ['Q56A73', 'X6R8Y7']\n",
      "complete protein annotation:  sp|Q56A73|SPIN4_HUMAN,tr|X6R8Y7|X6R8Y7_HUMAN\n",
      "protein in masters:  [False, False]\n",
      "protein in all:  [False, False]\n",
      "\n",
      "N: 5\n",
      "peptide AVSFVPRVETK\n",
      "localisation score:  9.51876302133315\n",
      "protein:  ['Q8WXX0']\n",
      "complete protein annotation:  sp|Q8WXX0|DYH7_HUMAN\n",
      "protein in masters:  [False]\n",
      "protein in all:  [False]\n",
      "\n",
      "N: 6\n",
      "peptide AFGWQAAAR\n",
      "localisation score:  150.424396988819\n",
      "protein:  ['Q8N4S7', 'I3L1A2', 'I3L265']\n",
      "complete protein annotation:  sp|Q8N4S7|PAQR4_HUMAN,tr|I3L1A2|I3L1A2_HUMAN,tr|I3L265|I3L265_HUMAN\n",
      "protein in masters:  [False, False, False]\n",
      "protein in all:  [False, False, False]\n",
      "\n",
      "N: 7\n",
      "peptide ENLTELSGGQR\n",
      "localisation score:  100.000675593037\n",
      "protein:  ['O95347', 'A0A0C4DGE5']\n",
      "complete protein annotation:  sp|O95347|SMC2_HUMAN,tr|A0A0C4DGE5|A0A0C4DGE5_HUMAN\n",
      "protein in masters:  [True, False]\n",
      "protein in all:  [True, True]\n",
      "\n",
      "\n",
      "-------\n",
      "total peptides:  6874\n",
      "peptides with a (mascot) master protein:  1875\n"
     ]
    }
   ],
   "source": [
    "display = 1\n",
    "n = 0\n",
    "n2 = 0\n",
    "\n",
    "\n",
    "#print(rnp_df.head())\n",
    "\n",
    "for ix, row in rnp_df.iterrows():\n",
    "    \n",
    "    proteins = [x.split(\"|\")[1] for x in row['Proteins'].split(\",\")]\n",
    "    peptide = row['Peptide']\n",
    "    localisation_score = row['Best loc score']\n",
    "    proteins_in_master = sum([x in all_proteins for x in proteins])\n",
    "    if localisation_score == 0:\n",
    "        continue\n",
    "    n+=1\n",
    "    \n",
    "    if display:\n",
    "        print(\"\\nN:\", n)\n",
    "        print(\"peptide\", peptide)\n",
    "        print(\"localisation score: \", localisation_score)\n",
    "        print(\"protein: \", proteins)\n",
    "        print(\"complete protein annotation: \", row['Proteins'])\n",
    "        print(\"protein in masters: \", [x in master_proteins for x in proteins])\n",
    "        print(\"protein in all: \", [x in all_proteins for x in proteins])\n",
    "\n",
    "    if n > 6:\n",
    "        display = 0\n",
    "\n",
    "    if proteins_in_master > 0:me\n",
    "        n2+=1\n",
    "print(\"\\n\\n-------\\ntotal peptides: \", n)\n",
    "print(\"peptides with a (mascot) master protein: \", n2)\n"
   ]
  },
  {
   "cell_type": "markdown",
   "metadata": {},
   "source": [
    "OK, so this is a non-starter. Only 1875/6874 peptides with a cross-link even have a master protein identified by the usual Mascot approach. For the columns we wanted to extract from Mascot, we'll have to derive the information ourselves."
   ]
  }
 ],
 "metadata": {
  "anaconda-cloud": {},
  "kernelspec": {
   "display_name": "Python [conda root]",
   "language": "python",
   "name": "conda-root-py"
  },
  "language_info": {
   "codemirror_mode": {
    "name": "ipython",
    "version": 3
   },
   "file_extension": ".py",
   "mimetype": "text/x-python",
   "name": "python",
   "nbconvert_exporter": "python",
   "pygments_lexer": "ipython3",
   "version": "3.5.2"
  }
 },
 "nbformat": 4,
 "nbformat_minor": 1
}
