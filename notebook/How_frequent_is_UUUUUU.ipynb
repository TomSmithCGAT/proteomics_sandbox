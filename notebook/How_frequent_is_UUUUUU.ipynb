{
 "cells": [
  {
   "cell_type": "code",
   "execution_count": 6,
   "metadata": {
    "collapsed": true
   },
   "outputs": [],
   "source": [
    "import CGAT.FastaIterator as FA\n",
    "\n",
    "import CGAT.IOTools as IOTools\n",
    "\n",
    "import collections"
   ]
  },
  {
   "cell_type": "markdown",
   "metadata": {},
   "source": [
    "Here we want to quickly check how frequently UUUUUU occurs in RNA sequences. For a quick first check, we'll just use the coding sequence of the GENCODE basic transcriptome"
   ]
  },
  {
   "cell_type": "code",
   "execution_count": 16,
   "metadata": {
    "collapsed": false
   },
   "outputs": [
    {
     "name": "stdout",
     "output_type": "stream",
     "text": [
      "[('TTTTTT', 223312), ('AAAAAA', 212503), ('AAGAAA', 154928), ('CTGCTG', 150668), ('GAAGAA', 150333), ('AGAAAA', 148214), ('AGAAGA', 147561), ('CTGGAG', 147505), ('CAGCAG', 146174), ('GAGGAG', 144306)]\n",
      "155779159\n",
      "223312\n",
      "0.14335165334921343\n"
     ]
    }
   ],
   "source": [
    "kmers = collections.Counter()\n",
    "for entry in FA.FastaIterator(IOTools.openFile(\n",
    "        \"/home/FILESERVER5/proteomics/tss38/ref_transcriptome_paper/run/annotations/gencode_basic_coding_sequins.fa\")):\n",
    "    if not entry.title.startswith(\"ENST\"):\n",
    "        break\n",
    "    \n",
    "    seq = entry.sequence\n",
    "    for x in range(0, len(seq)-5):\n",
    "        kmers[seq[x:x+6]] += 1\n",
    "    #break\n",
    "\n",
    "print(kmers.most_common()[0:10])\n",
    "print(sum(kmers.values()))\n",
    "print(kmers['TTTTTT'])\n",
    "print(100*kmers['TTTTTT']/sum(kmers.values()))"
   ]
  }
 ],
 "metadata": {
  "anaconda-cloud": {},
  "kernelspec": {
   "display_name": "Python [conda root]",
   "language": "python",
   "name": "conda-root-py"
  },
  "language_info": {
   "codemirror_mode": {
    "name": "ipython",
    "version": 3
   },
   "file_extension": ".py",
   "mimetype": "text/x-python",
   "name": "python",
   "nbconvert_exporter": "python",
   "pygments_lexer": "ipython3",
   "version": "3.5.2"
  }
 },
 "nbformat": 4,
 "nbformat_minor": 1
}
