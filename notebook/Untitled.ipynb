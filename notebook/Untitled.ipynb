{
 "cells": [
  {
   "cell_type": "code",
   "execution_count": 1,
   "metadata": {
    "collapsed": true
   },
   "outputs": [],
   "source": [
    "import pandas as pd"
   ]
  },
  {
   "cell_type": "code",
   "execution_count": 2,
   "metadata": {
    "collapsed": true
   },
   "outputs": [],
   "source": [
    "mascot_inf = \"../raw/Trizol_RNA_Ptn_testMascot_Proteins.txt\"\n",
    "rnp_inf = \"../raw/RNA_Ptn_Trizol_annotated.tsv\""
   ]
  },
  {
   "cell_type": "code",
   "execution_count": 3,
   "metadata": {
    "collapsed": false
   },
   "outputs": [],
   "source": [
    "mascot_df = pd.read_table(mascot_inf)\n",
    "rnp_df = pd.read_table(rnp_inf)"
   ]
  },
  {
   "cell_type": "code",
   "execution_count": 5,
   "metadata": {
    "collapsed": false
   },
   "outputs": [
    {
     "name": "stdout",
     "output_type": "stream",
     "text": [
      "  Best localization(s)       RNA  \\\n",
      "0                  NaN      none   \n",
      "1        HACCEHfQMQLRS  U+H1O3P1   \n",
      "\n",
      "                                      top_protein(s)     top_uniprot_id(s)  \\\n",
      "0  sp|Q9H2X9|S12A5_HUMAN;sp|Q9UP95|S12A4_HUMAN;sp...  Q9H2X9;Q9UP95;Q9Y666   \n",
      "1                              sp|P04798|CP1A1_HUMAN                P04798   \n",
      "\n",
      "                              protein_description(s) protein_length(s)  \\\n",
      "0  Solute carrier family 12 member 5 OS=Homo sapi...    1139;1085;1083   \n",
      "1  Cytochrome P450 1A1 OS=Homo sapiens GN=CYP1A1 ...               512   \n",
      "\n",
      "  position_in_peptide position_in_protein(s)      window_13  \\\n",
      "0        no_crosslink           no_crosslink   no_crosslink   \n",
      "1                   7                    506  HACCEHFQMQLRS   \n",
      "\n",
      "                      window_15   ...    U_307.03311  Abs. prec. error Da  \\\n",
      "0                  no_crosslink   ...            0.0               0.0023   \n",
      "1  protein_too_short_for_window   ...            0.0              -0.0103   \n",
      "\n",
      "  Rel. prec. error ppm        M+H       M+2H      M+3H      M+4H  \\\n",
      "0                  7.1   644.3515   322.6794  215.4553  161.8433   \n",
      "1                 -9.7  2123.7170  1062.3622  708.5772  531.6847   \n",
      "\n",
      "                                 Fragment annotation  tr_only  matches  \n",
      "0  (304.154,25.6,\"[b3]+\")|(249.178,8.0,\"[b5]++\")|...    False        6  \n",
      "1  (1458.469,53.0,\"[b11]+\")|(325.128,24.0,\"[y5]++...    False        3  \n",
      "\n",
      "[2 rows x 42 columns]\n",
      "  Checked Protein FDR Confidence                    Master  \\\n",
      "0   False                   High  IsMasterProteinCandidate   \n",
      "1   False                   High                      None   \n",
      "\n",
      "    Unique Sequence ID Protein Group IDs Accession  \\\n",
      "0 -9219901671989295028              2144    E9PQH6   \n",
      "1 -9219603005196483431              3424    E5RIC7   \n",
      "\n",
      "                                         Description  \\\n",
      "0  Rho-related GTP-binding protein RhoC (Fragment...   \n",
      "1  DNA topoisomerase I, mitochondrial (Fragment) ...   \n",
      "\n",
      "                                            Sequence  \\\n",
      "0  MAAIRKKLVIVGDGACGKTCLLIVFSKDQFPEVYVPTVFENYIADI...   \n",
      "1  MLDHEYTTKEVFRKNFFNDWRKEMAVEEREVIKSLDKCDFTEIHRY...   \n",
      "\n",
      "                                   FASTA Title Lines  Exp q-value  \\\n",
      "0  >tr|E9PQH6|E9PQH6_HUMAN Rho-related GTP-bindin...     0.000000   \n",
      "1  >tr|E5RIC7|E5RIC7_HUMAN DNA topoisomerase I, m...     0.000278   \n",
      "\n",
      "           ...            Found in Sample Group in S2 F2 Control  \\\n",
      "0          ...                                              High   \n",
      "1          ...                                              High   \n",
      "\n",
      "   Found in Sample Group in S1 F1 Sample  emPAI  Coverage RNPxl  \\\n",
      "0                              Not Found  2.594               0   \n",
      "1                                   High  0.350               0   \n",
      "\n",
      "   Number of Peptides RNPxl  Number of PSMs RNPxl  Score Mascot  \\\n",
      "0                       NaN                   NaN     52.826667   \n",
      "1                       NaN                   NaN     77.668775   \n",
      "\n",
      "   Coverage Mascot  Number of Peptides Mascot  Number of PSMs Mascot  \n",
      "0        22.485207                          4                      5  \n",
      "1         4.787234                          2                      6  \n",
      "\n",
      "[2 rows x 35 columns]\n"
     ]
    }
   ],
   "source": [
    "print(rnp_df.head(2))\n",
    "print(mascot_df.head(2))"
   ]
  },
  {
   "cell_type": "code",
   "execution_count": 12,
   "metadata": {
    "collapsed": false
   },
   "outputs": [
    {
     "name": "stdout",
     "output_type": "stream",
     "text": [
      "                   position_in_peptide\n",
      "top_uniprot_id(s)                     \n",
      "A0A044PY82                           1\n",
      "A0A075B6F3;H0Y7V4                    2\n",
      "A0A075B6H5                           1\n",
      "A0A075B6X0                           1\n",
      "A0A075B715                           1\n"
     ]
    }
   ],
   "source": [
    "#rnp_proteins = \n",
    "rnp_df = rnp_df[rnp_df['position_in_peptide']!='no_crosslink']\n",
    "rnp_pivot = pd.DataFrame(\n",
    "    rnp_df.pivot_table(index='top_uniprot_id(s)', values='position_in_peptide', aggfunc=len))\n",
    "print(rnp_pivot.head())\n",
    "rnp_pivot.sort_values('position_in_peptide').to_csv(\n",
    "    \"/home/FILESERVER5/proteomics/tss38/Desktop/test.tsv\", index=True, sep=\"\\t\")"
   ]
  }
 ],
 "metadata": {
  "anaconda-cloud": {},
  "kernelspec": {
   "display_name": "Python [conda root]",
   "language": "python",
   "name": "conda-root-py"
  },
  "language_info": {
   "codemirror_mode": {
    "name": "ipython",
    "version": 3
   },
   "file_extension": ".py",
   "mimetype": "text/x-python",
   "name": "python",
   "nbconvert_exporter": "python",
   "pygments_lexer": "ipython3",
   "version": "3.5.2"
  }
 },
 "nbformat": 4,
 "nbformat_minor": 1
}
